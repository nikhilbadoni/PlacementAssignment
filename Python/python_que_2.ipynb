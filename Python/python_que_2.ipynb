{
 "cells": [
  {
   "cell_type": "code",
   "execution_count": 5,
   "metadata": {},
   "outputs": [
    {
     "name": "stdout",
     "output_type": "stream",
     "text": [
      "{'a': 2, 'b': 2, 'c': 2}\n"
     ]
    },
    {
     "data": {
      "text/plain": [
       "'YES'"
      ]
     },
     "execution_count": 5,
     "metadata": {},
     "output_type": "execute_result"
    }
   ],
   "source": [
    "my_string = \"aabbcc\" \n",
    "\n",
    "\n",
    "def string_checker(string):\n",
    "    \"\"\"returns a YES if if all characters of the string appear the same number of times\"\"\"\n",
    "\n",
    "    list_of_strings = []\n",
    "    checked_words = {}\n",
    "\n",
    "    for i in string:\n",
    "        list_of_strings.append(i)\n",
    "    for i in list_of_strings:\n",
    "        if i in checked_words:\n",
    "            continue\n",
    "        else:\n",
    "            occur = list_of_strings.count(i)\n",
    "            checked_words[i]= occur\n",
    "    print(checked_words) \n",
    "\n",
    "\n",
    "    for v in checked_words.values():\n",
    "        for v1 in checked_words.values():\n",
    "            if v == v1:\n",
    "                continue\n",
    "            else:\n",
    "                return \"NO\"\n",
    "    return \"YES\"\n",
    "\n",
    "\n",
    "string_checker(my_string)"
   ]
  },
  {
   "cell_type": "markdown",
   "metadata": {},
   "source": [
    "### another two test cases:\n"
   ]
  },
  {
   "cell_type": "code",
   "execution_count": 6,
   "metadata": {},
   "outputs": [
    {
     "name": "stdout",
     "output_type": "stream",
     "text": [
      "{'O': 1, 'k': 1, 'a': 1, 'y': 1}\n"
     ]
    },
    {
     "data": {
      "text/plain": [
       "'YES'"
      ]
     },
     "execution_count": 6,
     "metadata": {},
     "output_type": "execute_result"
    }
   ],
   "source": [
    "string_checker(\"Okay\")"
   ]
  },
  {
   "cell_type": "code",
   "execution_count": 7,
   "metadata": {},
   "outputs": [
    {
     "name": "stdout",
     "output_type": "stream",
     "text": [
      "{'p': 1, 'l': 1, 'a': 1, 'y': 1, 'e': 1, 'r': 1}\n"
     ]
    },
    {
     "data": {
      "text/plain": [
       "'YES'"
      ]
     },
     "execution_count": 7,
     "metadata": {},
     "output_type": "execute_result"
    }
   ],
   "source": [
    "string_checker(\"player\")"
   ]
  },
  {
   "cell_type": "code",
   "execution_count": null,
   "metadata": {},
   "outputs": [],
   "source": []
  }
 ],
 "metadata": {
  "kernelspec": {
   "display_name": "Python 3 (ipykernel)",
   "language": "python",
   "name": "python3"
  },
  "language_info": {
   "codemirror_mode": {
    "name": "ipython",
    "version": 3
   },
   "file_extension": ".py",
   "mimetype": "text/x-python",
   "name": "python",
   "nbconvert_exporter": "python",
   "pygments_lexer": "ipython3",
   "version": "3.10.9"
  }
 },
 "nbformat": 4,
 "nbformat_minor": 2
}
